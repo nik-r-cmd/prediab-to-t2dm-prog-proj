{
  "nbformat": 4,
  "nbformat_minor": 0,
  "metadata": {
    "colab": {
      "provenance": []
    },
    "kernelspec": {
      "name": "python3",
      "display_name": "Python 3"
    },
    "language_info": {
      "name": "python"
    }
  },
  "cells": [
    {
      "cell_type": "code",
      "execution_count": null,
      "metadata": {
        "colab": {
          "base_uri": "https://localhost:8080/"
        },
        "id": "9JqV1mzykkhM",
        "outputId": "b8c267c9-303f-4f0f-fab4-7a97ac168ebf"
      },
      "outputs": [
        {
          "output_type": "stream",
          "name": "stdout",
          "text": [
            "Mounted at /content/drive\n"
          ]
        }
      ],
      "source": [
        "from google.colab import drive\n",
        "drive.mount('/content/drive')\n"
      ]
    },
    {
      "cell_type": "code",
      "source": [
        "!pip install -q pandas numpy matplotlib seaborn scikit-learn imbalanced-learn xgboost lightgbm catboost shap optuna joblib\n"
      ],
      "metadata": {
        "colab": {
          "base_uri": "https://localhost:8080/"
        },
        "id": "5PQyk_aYlXTh",
        "outputId": "56185893-842c-4fb8-c0ce-c110b31a6208"
      },
      "execution_count": null,
      "outputs": [
        {
          "output_type": "stream",
          "name": "stdout",
          "text": [
            "\u001b[2K   \u001b[90m━━━━━━━━━━━━━━━━━━━━━━━━━━━━━━━━━━━━━━━━\u001b[0m \u001b[32m99.2/99.2 MB\u001b[0m \u001b[31m8.5 MB/s\u001b[0m eta \u001b[36m0:00:00\u001b[0m\n",
            "\u001b[?25h"
          ]
        }
      ]
    },
    {
      "cell_type": "code",
      "source": [
        "import pandas as pd\n",
        "import numpy as np\n",
        "import joblib\n",
        "import shap\n",
        "import matplotlib.pyplot as plt\n",
        "import seaborn as sns\n",
        "import xgboost as xgb\n",
        "from sklearn.model_selection import GridSearchCV, train_test_split\n",
        "from sklearn.metrics import mean_squared_error, r2_score, mean_absolute_error\n",
        "from google.colab import drive\n",
        "\n",
        "drive.mount('/content/drive')\n",
        "DATA_PATH = \"/content/drive/MyDrive/diabetes_data\"\n",
        "\n",
        "data = np.load(f\"{DATA_PATH}/train_test_split.npz\")\n",
        "X_train, y_train = data[\"X_train\"], data[\"y_train\"]\n",
        "\n",
        "X_train, X_test, y_train, y_test = train_test_split(X_train, y_train, test_size=0.2, random_state=42)\n",
        "\n",
        "with open(f\"{DATA_PATH}/feature_names.pkl\", \"rb\") as f:\n",
        "    feature_names = joblib.load(f)\n",
        "\n",
        "model = xgb.XGBRegressor(objective='reg:squarederror', random_state=42)\n",
        "param_grid = {\n",
        "    \"n_estimators\": [100, 200],\n",
        "    \"max_depth\": [4, 6],\n",
        "    \"learning_rate\": [0.05, 0.1]\n",
        "}\n",
        "\n",
        "grid_search = GridSearchCV(model, param_grid, cv=5, scoring='r2', n_jobs=-1, verbose=2)\n",
        "grid_search.fit(X_train, y_train)\n",
        "best_model = grid_search.best_estimator_\n",
        "print(\"Best Parameters:\", grid_search.best_params_)\n",
        "\n",
        "y_pred = best_model.predict(X_test)\n",
        "mse = mean_squared_error(y_test, y_pred)\n",
        "r2 = r2_score(y_test, y_pred)\n",
        "rmse = np.sqrt(mse)\n",
        "mae = mean_absolute_error(y_test, y_pred)\n",
        "print(f\"Test MSE: {mse:.4f}, Test R²: {r2:.4f}\")\n",
        "\n",
        "booster = best_model.get_booster()\n",
        "booster.save_model(f\"{DATA_PATH}/diabetes_model.xgb\")\n",
        "\n",
        "explainer = shap.Explainer(best_model)\n",
        "shap_values = explainer(X_test)\n",
        "\n",
        "plt.figure(figsize=(10, 6))\n",
        "shap.summary_plot(shap_values, features=X_test, feature_names=feature_names, show=False)\n",
        "plt.tight_layout()\n",
        "plt.savefig(f\"{DATA_PATH}/shap_summary.png\")\n",
        "plt.close()\n",
        "\n",
        "waterfall_fig = shap.plots.waterfall(shap_values[0], show=False)\n",
        "waterfall_fig.figure.savefig(f\"{DATA_PATH}/shap_case_detail.png\")\n",
        "plt.close()\n",
        "\n",
        "joblib.dump(explainer, f\"{DATA_PATH}/shap_explainer.joblib\")\n",
        "\n",
        "residuals = y_test - y_pred\n",
        "plt.figure(figsize=(8,5))\n",
        "sns.scatterplot(x=y_pred, y=residuals)\n",
        "plt.axhline(0, color='red', linestyle='--')\n",
        "plt.title('Residuals vs Predicted')\n",
        "plt.xlabel('Predicted Values')\n",
        "plt.ylabel('Residuals')\n",
        "plt.tight_layout()\n",
        "plt.savefig(f\"{DATA_PATH}/residuals_plot.png\", dpi=300)\n",
        "plt.close()\n",
        "\n",
        "plt.figure(figsize=(8,5))\n",
        "sns.scatterplot(x=y_test, y=y_pred)\n",
        "plt.plot([y_test.min(), y_test.max()], [y_test.min(), y_test.max()], 'r--')\n",
        "plt.title('Predicted vs Actual Values')\n",
        "plt.xlabel('Actual')\n",
        "plt.ylabel('Predicted')\n",
        "plt.tight_layout()\n",
        "plt.savefig(f\"{DATA_PATH}/predicted_vs_actual_plot.png\", dpi=300)\n",
        "plt.close()\n",
        "\n",
        "importances = best_model.feature_importances_\n",
        "feat_importance_df = pd.DataFrame({'Feature': feature_names, 'Importance': importances})\n",
        "feat_importance_df.sort_values(by='Importance', ascending=False, inplace=True)\n",
        "\n",
        "plt.figure(figsize=(10,6))\n",
        "sns.barplot(data=feat_importance_df, x='Importance', y='Feature', palette='viridis')\n",
        "plt.title('Feature Importances')\n",
        "plt.tight_layout()\n",
        "plt.savefig(f\"{DATA_PATH}/feature_importance_plot.png\", dpi=300)\n",
        "plt.close()\n",
        "\n",
        "report_html = f\"\"\"\n",
        "<h1>Diabetes Progression Model Report</h1>\n",
        "<h2>Model: XGBoost Regressor</h2>\n",
        "<ul>\n",
        "  <li><b>Best Hyperparameters:</b> {grid_search.best_params_}</li>\n",
        "</ul>\n",
        "<h2>Metrics</h2>\n",
        "<ul>\n",
        "  <li><b>Mean Squared Error (MSE):</b> {mse:.4f}</li>\n",
        "  <li><b>Root Mean Squared Error (RMSE):</b> {rmse:.4f}</li>\n",
        "  <li><b>Mean Absolute Error (MAE):</b> {mae:.4f}</li>\n",
        "  <li><b>R² Score:</b> {r2:.4f}</li>\n",
        "</ul>\n",
        "<h2>Important Figures</h2>\n",
        "<ul>\n",
        "  <li><a href=\"./shap_summary.png\">SHAP Summary Plot</a></li>\n",
        "  <li><a href=\"./shap_case_detail.png\">SHAP Waterfall Example</a></li>\n",
        "  <li><a href=\"./feature_importance_plot.png\">Feature Importance Plot</a></li>\n",
        "  <li><a href=\"./residuals_plot.png\">Residuals vs Predicted Plot</a></li>\n",
        "  <li><a href=\"./predicted_vs_actual_plot.png\">Predicted vs Actual Plot</a></li>\n",
        "</ul>\n",
        "\"\"\"\n",
        "\n",
        "with open(f\"{DATA_PATH}/model_report.html\", \"w\") as f:\n",
        "    f.write(report_html)\n",
        "\n",
        "print(\"Model + SHAP + Plots saved to Drive.\")"
      ],
      "metadata": {
        "colab": {
          "base_uri": "https://localhost:8080/",
          "height": 0
        },
        "id": "bU8TTxKP8k1v",
        "outputId": "62a9689d-6f17-4b65-c6bf-312eb76e1650"
      },
      "execution_count": 7,
      "outputs": [
        {
          "output_type": "stream",
          "name": "stdout",
          "text": [
            "Drive already mounted at /content/drive; to attempt to forcibly remount, call drive.mount(\"/content/drive\", force_remount=True).\n",
            "Fitting 5 folds for each of 8 candidates, totalling 40 fits\n",
            "Best Parameters: {'learning_rate': 0.1, 'max_depth': 6, 'n_estimators': 200}\n",
            "Test MSE: 0.0435, Test R²: 0.9118\n"
          ]
        },
        {
          "output_type": "stream",
          "name": "stderr",
          "text": [
            "/usr/local/lib/python3.11/dist-packages/xgboost/core.py:158: UserWarning: [09:18:26] WARNING: /workspace/src/c_api/c_api.cc:1374: Saving model in the UBJSON format as default.  You can use file extension: `json`, `ubj` or `deprecated` to choose between formats.\n",
            "  warnings.warn(smsg, UserWarning)\n",
            "<ipython-input-7-d39438d2f77d>:86: FutureWarning: \n",
            "\n",
            "Passing `palette` without assigning `hue` is deprecated and will be removed in v0.14.0. Assign the `y` variable to `hue` and set `legend=False` for the same effect.\n",
            "\n",
            "  sns.barplot(data=feat_importance_df, x='Importance', y='Feature', palette='viridis')\n"
          ]
        },
        {
          "output_type": "stream",
          "name": "stdout",
          "text": [
            "Model + SHAP + Plots saved to Drive.\n"
          ]
        }
      ]
    }
  ]
}